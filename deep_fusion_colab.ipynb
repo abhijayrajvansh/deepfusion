{
 "cells": [
  {
   "cell_type": "code",
   "execution_count": null,
   "metadata": {},
   "outputs": [],
   "source": [
    "from google.colab import drive\n",
    "drive.mount('/content/drive')"
   ]
  },
  {
   "cell_type": "code",
   "execution_count": null,
   "metadata": {},
   "outputs": [],
   "source": [
    "!git clone https://github.com/abhijayrajvansh/deepfusion\n",
    "%cd deepfusion\n",
    "!pip install onnxruntime-gpu && pip install -r requirements.txt\n",
    "!pip install onnxruntime-gpu --upgrade\n",
    "!apt-get update --yes\n",
    "!apt install nvidia-cuda-toolkit --yes\n",
    "!pip install opennsfw2 keras --upgrade"
   ]
  },
  {
   "cell_type": "code",
   "execution_count": null,
   "metadata": {},
   "outputs": [],
   "source": [
    "%cd \"/content/deepfusion\"\n",
    "!python run.py -s \"/content/drive/MyDrive/df/bella1.png\" -t \"/content/drive/MyDrive/df/samplevideo.mp4\" -o \"/content/drive/MyDrive/df/result1.mp4\" --keep-frames --keep-fps --temp-frame-quality 1 --output-video-quality 1 --execution-provider cuda --frame-processor face_swapper face_enhancer"
   ]
  }
 ],
 "metadata": {
  "language_info": {
   "name": "python"
  }
 },
 "nbformat": 4,
 "nbformat_minor": 2
}
